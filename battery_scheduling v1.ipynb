{
 "cells": [
  {
   "cell_type": "code",
   "execution_count": 5,
   "metadata": {},
   "outputs": [],
   "source": [
    "import cvxpy as cp\n",
    "import numpy as np\n",
    "import pandas as pd\n",
    "import random as rd\n",
    "import datetime\n",
    "import matplotlib.pyplot as plt\n",
    "import matplotlib.dates as mdates"
   ]
  },
  {
   "cell_type": "code",
   "execution_count": 6,
   "metadata": {},
   "outputs": [
    {
     "name": "stdout",
     "output_type": "stream",
     "text": [
      "                        DA     RT\n",
      "2016-01-01 00:00:00  18.22  15.48\n",
      "2016-01-01 00:05:00  18.22  15.48\n",
      "2016-01-01 00:10:00  18.22  15.48\n",
      "2016-01-01 00:15:00  18.22  15.33\n",
      "2016-01-01 00:20:00  18.22  15.33\n"
     ]
    }
   ],
   "source": [
    "df_WS = pd.read_csv('/Users/lynnekiesling/Documents/projects/SLAC TESS//Ercot_LZ_SOUTH.csv',parse_dates=True,index_col=[0]) # For year 2016\n",
    "df_WS.head()\n",
    "print(df_WS.head())\n",
    "df_WS = df_WS[~df_WS.index.duplicated(keep='last')]\n",
    "# the ~ inverts the true/false, square bracket says \"keep true\"\n",
    "#is this robust to more than one duplicate? yes\n",
    "#change units, divide by 1000 to get to kWh\n",
    "df_WS = df_WS/1000"
   ]
  },
  {
   "cell_type": "code",
   "execution_count": 7,
   "metadata": {},
   "outputs": [
    {
     "name": "stdout",
     "output_type": "stream",
     "text": [
      "2016\n"
     ]
    }
   ],
   "source": [
    "start = datetime.datetime( 2016, 7, 1, 0, 0)\n",
    "end = datetime.datetime( 2016, 7, 7, 23, 59, 59) #note the previous was only going through the 6th\n",
    "interval = 300 # interval of market operation in seconds\n",
    "market_intervals = pd.date_range(start,end,freq = str(int(interval/60))+'min')\n",
    "market_intervals #the first hour in 5 minute increments\n",
    "index = len(market_intervals)\n",
    "print(len(market_intervals))"
   ]
  },
  {
   "cell_type": "code",
   "execution_count": 4,
   "metadata": {},
   "outputs": [
    {
     "name": "stdout",
     "output_type": "stream",
     "text": [
      "2016-07-01 00:00:00    19.48\n",
      "2016-07-01 00:05:00    19.48\n",
      "2016-07-01 00:10:00    19.48\n",
      "2016-07-01 00:15:00    19.92\n",
      "2016-07-01 00:20:00    19.92\n",
      "                       ...  \n",
      "2016-07-07 00:40:00    18.14\n",
      "2016-07-07 00:45:00    17.73\n",
      "2016-07-07 00:50:00    17.73\n",
      "2016-07-07 00:55:00    17.73\n",
      "2016-07-07 01:00:00    18.17\n",
      "Freq: 5T, Name: RT, Length: 1741, dtype: float64\n"
     ]
    },
    {
     "data": {
      "text/plain": [
       "2016-07-01 00:00:00    19.48\n",
       "2016-07-01 00:05:00    19.48\n",
       "2016-07-01 00:10:00    19.48\n",
       "2016-07-01 00:15:00    19.92\n",
       "2016-07-01 00:20:00    19.92\n",
       "                       ...  \n",
       "2016-07-07 00:40:00    18.14\n",
       "2016-07-07 00:45:00    17.73\n",
       "2016-07-07 00:50:00    17.73\n",
       "2016-07-07 00:55:00    17.73\n",
       "2016-07-07 01:00:00    18.17\n",
       "Freq: 5T, Name: RT, Length: 1741, dtype: float64"
      ]
     },
     "execution_count": 4,
     "metadata": {},
     "output_type": "execute_result"
    }
   ],
   "source": [
    "RT = df_WS['RT']\n",
    "prices = df_WS.RT[market_intervals] #check this line, possibly prices = df_WS[\"RT\", market_intervals] ??? brush up on data frames\n",
    "#print(len(prices))\n",
    "# prices = [15]*3*12+[40]*3*12\n",
    "T = len(prices)\n",
    "prices"
   ]
  },
  {
   "cell_type": "code",
   "execution_count": 5,
   "metadata": {},
   "outputs": [],
   "source": [
    "# Initialize price parameters, T = number of market intervals\n",
    "#prices = list(range(10,22))\n",
    "T = len(prices)\n",
    "\n",
    "#48 intervals of lower, and 48 intervals of higher price\n",
    "\n",
    "# Initialize variables for cvxpy using cp.\n",
    "SOC = cp.Variable((T+1,)) #check why T+1\n",
    "x = cp.Variable((T,))\n",
    "#profit = cp.Variable(1,)\n",
    "\n",
    "# Initialize constraints\n",
    "constraints = [SOC[0]==2.]\n",
    "constraints += [SOC[T]==2.]\n",
    "\n",
    "for t in range(T):\n",
    "    #for each t, list of constraints that apply\n",
    "    #constraints += [(-1<=x[t]), (x[t]<=1), 1<=SOC[t], SOC[t]<=5, SOC[t+1]==1*SOC[t]+x[t]/12.]\n",
    "    constraints += [-1.<=x[t], x[t]<=1., 1.<=SOC[t], SOC[t]<=5., SOC[t+1]==0.99*SOC[t]+(x[t]/12)]\n",
    "\n",
    "    # Objective function\n",
    "obj = cp.sum(cp.multiply(prices,-x))\n",
    "obj = cp.Maximize(obj)"
   ]
  },
  {
   "cell_type": "code",
   "execution_count": 6,
   "metadata": {
    "scrolled": false
   },
   "outputs": [
    {
     "name": "stdout",
     "output_type": "stream",
     "text": [
      "432.09850799397196\n"
     ]
    }
   ],
   "source": [
    "# Solve problem\n",
    "prob = cp.Problem(obj, constraints)\n",
    "profits = (prob.solve())/12 #returns optimal value = prob.value\n",
    "print(profits)"
   ]
  },
  {
   "cell_type": "code",
   "execution_count": 7,
   "metadata": {
    "scrolled": true
   },
   "outputs": [
    {
     "name": "stdout",
     "output_type": "stream",
     "text": [
      "[2.         1.91466667 1.82941867 ... 1.83708901 1.91858525 2.        ]\n"
     ]
    }
   ],
   "source": [
    "SOC_values = SOC.value\n",
    "print(SOC_values)"
   ]
  },
  {
   "cell_type": "code",
   "execution_count": 8,
   "metadata": {},
   "outputs": [
    {
     "name": "stdout",
     "output_type": "stream",
     "text": [
      "status: optimal\n",
      "optimal value 5185.182095927664\n",
      "optimal var [-0.99999999 -0.99999998 -0.77736355 ...  1.          1.\n",
      "  1.        ]\n",
      "var1\n"
     ]
    }
   ],
   "source": [
    "# Print output and solution characteristics\n",
    "\n",
    "print(\"status:\", prob.status)\n",
    "print(\"optimal value\", prob.value)\n",
    "print(\"optimal var\", x.value)\n",
    "print(x)\n",
    "\n",
    "# is it ok that the x array contains values other than -1, 0, 1?\n",
    "#for the test, first half is positive because charging, and second half is discharging"
   ]
  },
  {
   "cell_type": "code",
   "execution_count": 9,
   "metadata": {},
   "outputs": [
    {
     "name": "stdout",
     "output_type": "stream",
     "text": [
      "[-0.99999999 -0.99999998 -0.77736355 ...  1.          1.\n",
      "  1.        ]\n"
     ]
    }
   ],
   "source": [
    "x_values = x.value\n",
    "print(x_values)"
   ]
  },
  {
   "cell_type": "code",
   "execution_count": 10,
   "metadata": {},
   "outputs": [],
   "source": [
    "Pd = 0\n",
    "Qd = x_values[0]\n",
    "SOC = 2\n",
    "df_store = pd.DataFrame(columns=['timestamp', 'RT', 'SOC_t', 'dispatch'])"
   ]
  },
  {
   "cell_type": "code",
   "execution_count": 11,
   "metadata": {},
   "outputs": [
    {
     "data": {
      "text/plain": [
       "1741"
      ]
     },
     "execution_count": 11,
     "metadata": {},
     "output_type": "execute_result"
    }
   ],
   "source": [
    "len(x_values)"
   ]
  },
  {
   "cell_type": "code",
   "execution_count": 12,
   "metadata": {},
   "outputs": [
    {
     "data": {
      "text/plain": [
       "array([-0.99999999, -0.99999998, -0.77736355, ...,  1.        ,\n",
       "        1.        ,  1.        ])"
      ]
     },
     "execution_count": 12,
     "metadata": {},
     "output_type": "execute_result"
    }
   ],
   "source": [
    "(x_values)"
   ]
  },
  {
   "cell_type": "code",
   "execution_count": 13,
   "metadata": {},
   "outputs": [
    {
     "data": {
      "text/plain": [
       "1741"
      ]
     },
     "execution_count": 13,
     "metadata": {},
     "output_type": "execute_result"
    }
   ],
   "source": [
    "\n",
    "first_element=[0]\n",
    "SOC_values_final = np.delete(SOC_values, first_element)\n",
    "SOC_values_final.size\n"
   ]
  },
  {
   "cell_type": "code",
   "execution_count": 14,
   "metadata": {},
   "outputs": [],
   "source": [
    "\n",
    "df_WS_restricted = df_WS.loc[market_intervals]"
   ]
  },
  {
   "cell_type": "code",
   "execution_count": 15,
   "metadata": {},
   "outputs": [
    {
     "data": {
      "text/plain": [
       "array([-0.99999999, -0.99999998, -0.77736355, ...,  1.        ,\n",
       "        1.        ,  1.        ])"
      ]
     },
     "execution_count": 15,
     "metadata": {},
     "output_type": "execute_result"
    }
   ],
   "source": [
    "x.value"
   ]
  },
  {
   "cell_type": "code",
   "execution_count": 16,
   "metadata": {},
   "outputs": [
    {
     "data": {
      "text/html": [
       "<div>\n",
       "<style scoped>\n",
       "    .dataframe tbody tr th:only-of-type {\n",
       "        vertical-align: middle;\n",
       "    }\n",
       "\n",
       "    .dataframe tbody tr th {\n",
       "        vertical-align: top;\n",
       "    }\n",
       "\n",
       "    .dataframe thead th {\n",
       "        text-align: right;\n",
       "    }\n",
       "</style>\n",
       "<table border=\"1\" class=\"dataframe\">\n",
       "  <thead>\n",
       "    <tr style=\"text-align: right;\">\n",
       "      <th></th>\n",
       "      <th>timestamp</th>\n",
       "      <th>RT</th>\n",
       "      <th>SOC_t</th>\n",
       "      <th>dispatch</th>\n",
       "    </tr>\n",
       "  </thead>\n",
       "  <tbody>\n",
       "    <tr>\n",
       "      <th>0</th>\n",
       "      <td>2016-07-01 00:00:00</td>\n",
       "      <td>19.48</td>\n",
       "      <td>1.914667</td>\n",
       "      <td>-1.000000</td>\n",
       "    </tr>\n",
       "    <tr>\n",
       "      <th>1</th>\n",
       "      <td>2016-07-01 00:05:00</td>\n",
       "      <td>19.48</td>\n",
       "      <td>1.829419</td>\n",
       "      <td>-1.000000</td>\n",
       "    </tr>\n",
       "    <tr>\n",
       "      <th>2</th>\n",
       "      <td>2016-07-01 00:10:00</td>\n",
       "      <td>19.48</td>\n",
       "      <td>1.762809</td>\n",
       "      <td>-0.777364</td>\n",
       "    </tr>\n",
       "    <tr>\n",
       "      <th>3</th>\n",
       "      <td>2016-07-01 00:15:00</td>\n",
       "      <td>19.92</td>\n",
       "      <td>1.677713</td>\n",
       "      <td>-1.000000</td>\n",
       "    </tr>\n",
       "    <tr>\n",
       "      <th>4</th>\n",
       "      <td>2016-07-01 00:20:00</td>\n",
       "      <td>19.92</td>\n",
       "      <td>1.592702</td>\n",
       "      <td>-1.000000</td>\n",
       "    </tr>\n",
       "    <tr>\n",
       "      <th>...</th>\n",
       "      <td>...</td>\n",
       "      <td>...</td>\n",
       "      <td>...</td>\n",
       "      <td>...</td>\n",
       "    </tr>\n",
       "    <tr>\n",
       "      <th>1736</th>\n",
       "      <td>2016-07-07 00:40:00</td>\n",
       "      <td>18.14</td>\n",
       "      <td>1.673852</td>\n",
       "      <td>1.000000</td>\n",
       "    </tr>\n",
       "    <tr>\n",
       "      <th>1737</th>\n",
       "      <td>2016-07-07 00:45:00</td>\n",
       "      <td>17.73</td>\n",
       "      <td>1.755511</td>\n",
       "      <td>1.000000</td>\n",
       "    </tr>\n",
       "    <tr>\n",
       "      <th>1738</th>\n",
       "      <td>2016-07-07 00:50:00</td>\n",
       "      <td>17.73</td>\n",
       "      <td>1.837089</td>\n",
       "      <td>1.000000</td>\n",
       "    </tr>\n",
       "    <tr>\n",
       "      <th>1739</th>\n",
       "      <td>2016-07-07 00:55:00</td>\n",
       "      <td>17.73</td>\n",
       "      <td>1.918585</td>\n",
       "      <td>1.000000</td>\n",
       "    </tr>\n",
       "    <tr>\n",
       "      <th>1740</th>\n",
       "      <td>2016-07-07 01:00:00</td>\n",
       "      <td>18.17</td>\n",
       "      <td>2.000000</td>\n",
       "      <td>1.000000</td>\n",
       "    </tr>\n",
       "  </tbody>\n",
       "</table>\n",
       "<p>1741 rows × 4 columns</p>\n",
       "</div>"
      ],
      "text/plain": [
       "               timestamp     RT     SOC_t  dispatch\n",
       "0    2016-07-01 00:00:00  19.48  1.914667 -1.000000\n",
       "1    2016-07-01 00:05:00  19.48  1.829419 -1.000000\n",
       "2    2016-07-01 00:10:00  19.48  1.762809 -0.777364\n",
       "3    2016-07-01 00:15:00  19.92  1.677713 -1.000000\n",
       "4    2016-07-01 00:20:00  19.92  1.592702 -1.000000\n",
       "...                  ...    ...       ...       ...\n",
       "1736 2016-07-07 00:40:00  18.14  1.673852  1.000000\n",
       "1737 2016-07-07 00:45:00  17.73  1.755511  1.000000\n",
       "1738 2016-07-07 00:50:00  17.73  1.837089  1.000000\n",
       "1739 2016-07-07 00:55:00  17.73  1.918585  1.000000\n",
       "1740 2016-07-07 01:00:00  18.17  2.000000  1.000000\n",
       "\n",
       "[1741 rows x 4 columns]"
      ]
     },
     "execution_count": 16,
     "metadata": {},
     "output_type": "execute_result"
    }
   ],
   "source": [
    "df_store['timestamp'] = df_WS_restricted.index\n",
    "df_store['RT'] = df_store.timestamp.map(df_WS_restricted['RT'].to_dict())\n",
    "# df_store['timestamp'] = range(len(prices))\n",
    "# df_store['RT'] = prices\n",
    "df_store['SOC_t'] = SOC_values_final\n",
    "df_store['dispatch'] = x_values\n",
    "\n",
    "# df_store.loc[df_store.duplicated(subset='timestamp')]\n",
    "\n",
    "#df_store.drop_duplicates(subset='timestamp', keep='last', inplace=True)\n",
    "#get df_store to be same size as x_values and SOC_values\n",
    "#directly write this array to dataframe column\n",
    "df_store"
   ]
  },
  {
   "cell_type": "code",
   "execution_count": 17,
   "metadata": {
    "scrolled": true
   },
   "outputs": [
    {
     "name": "stdout",
     "output_type": "stream",
     "text": [
      "2016-07-01 06:55:00\n",
      "2016-07-01 00:55:00\n",
      "DatetimeIndex(['2016-07-01 00:55:00', '2016-07-01 01:00:00',\n",
      "               '2016-07-01 01:05:00', '2016-07-01 01:10:00',\n",
      "               '2016-07-01 01:15:00', '2016-07-01 01:20:00',\n",
      "               '2016-07-01 01:25:00', '2016-07-01 01:30:00',\n",
      "               '2016-07-01 01:35:00', '2016-07-01 01:40:00',\n",
      "               '2016-07-01 01:45:00', '2016-07-01 01:50:00',\n",
      "               '2016-07-01 01:55:00', '2016-07-01 02:00:00',\n",
      "               '2016-07-01 02:05:00', '2016-07-01 02:10:00',\n",
      "               '2016-07-01 02:15:00', '2016-07-01 02:20:00',\n",
      "               '2016-07-01 02:25:00', '2016-07-01 02:30:00',\n",
      "               '2016-07-01 02:35:00', '2016-07-01 02:40:00',\n",
      "               '2016-07-01 02:45:00', '2016-07-01 02:50:00',\n",
      "               '2016-07-01 02:55:00', '2016-07-01 03:00:00',\n",
      "               '2016-07-01 03:05:00', '2016-07-01 03:10:00',\n",
      "               '2016-07-01 03:15:00', '2016-07-01 03:20:00',\n",
      "               '2016-07-01 03:25:00', '2016-07-01 03:30:00',\n",
      "               '2016-07-01 03:35:00', '2016-07-01 03:40:00',\n",
      "               '2016-07-01 03:45:00', '2016-07-01 03:50:00',\n",
      "               '2016-07-01 03:55:00', '2016-07-01 04:00:00',\n",
      "               '2016-07-01 04:05:00', '2016-07-01 04:10:00',\n",
      "               '2016-07-01 04:15:00', '2016-07-01 04:20:00',\n",
      "               '2016-07-01 04:25:00', '2016-07-01 04:30:00',\n",
      "               '2016-07-01 04:35:00', '2016-07-01 04:40:00',\n",
      "               '2016-07-01 04:45:00', '2016-07-01 04:50:00',\n",
      "               '2016-07-01 04:55:00', '2016-07-01 05:00:00',\n",
      "               '2016-07-01 05:05:00', '2016-07-01 05:10:00',\n",
      "               '2016-07-01 05:15:00', '2016-07-01 05:20:00',\n",
      "               '2016-07-01 05:25:00', '2016-07-01 05:30:00',\n",
      "               '2016-07-01 05:35:00', '2016-07-01 05:40:00',\n",
      "               '2016-07-01 05:45:00', '2016-07-01 05:50:00',\n",
      "               '2016-07-01 05:55:00', '2016-07-01 06:00:00',\n",
      "               '2016-07-01 06:05:00', '2016-07-01 06:10:00',\n",
      "               '2016-07-01 06:15:00', '2016-07-01 06:20:00',\n",
      "               '2016-07-01 06:25:00', '2016-07-01 06:30:00',\n",
      "               '2016-07-01 06:35:00', '2016-07-01 06:40:00',\n",
      "               '2016-07-01 06:45:00', '2016-07-01 06:50:00',\n",
      "               '2016-07-01 06:55:00'],\n",
      "              dtype='datetime64[ns]', freq='5T')\n",
      "DatetimeIndex(['2016-07-01 06:55:00', '2016-07-01 07:00:00',\n",
      "               '2016-07-01 07:05:00', '2016-07-01 07:10:00',\n",
      "               '2016-07-01 07:15:00', '2016-07-01 07:20:00',\n",
      "               '2016-07-01 07:25:00', '2016-07-01 07:30:00',\n",
      "               '2016-07-01 07:35:00', '2016-07-01 07:40:00',\n",
      "               '2016-07-01 07:45:00', '2016-07-01 07:50:00',\n",
      "               '2016-07-01 07:55:00', '2016-07-01 08:00:00',\n",
      "               '2016-07-01 08:05:00', '2016-07-01 08:10:00',\n",
      "               '2016-07-01 08:15:00', '2016-07-01 08:20:00',\n",
      "               '2016-07-01 08:25:00', '2016-07-01 08:30:00',\n",
      "               '2016-07-01 08:35:00', '2016-07-01 08:40:00',\n",
      "               '2016-07-01 08:45:00', '2016-07-01 08:50:00',\n",
      "               '2016-07-01 08:55:00', '2016-07-01 09:00:00',\n",
      "               '2016-07-01 09:05:00', '2016-07-01 09:10:00',\n",
      "               '2016-07-01 09:15:00', '2016-07-01 09:20:00',\n",
      "               '2016-07-01 09:25:00', '2016-07-01 09:30:00',\n",
      "               '2016-07-01 09:35:00', '2016-07-01 09:40:00',\n",
      "               '2016-07-01 09:45:00', '2016-07-01 09:50:00',\n",
      "               '2016-07-01 09:55:00', '2016-07-01 10:00:00',\n",
      "               '2016-07-01 10:05:00', '2016-07-01 10:10:00',\n",
      "               '2016-07-01 10:15:00', '2016-07-01 10:20:00',\n",
      "               '2016-07-01 10:25:00', '2016-07-01 10:30:00',\n",
      "               '2016-07-01 10:35:00', '2016-07-01 10:40:00',\n",
      "               '2016-07-01 10:45:00', '2016-07-01 10:50:00',\n",
      "               '2016-07-01 10:55:00', '2016-07-01 11:00:00',\n",
      "               '2016-07-01 11:05:00', '2016-07-01 11:10:00',\n",
      "               '2016-07-01 11:15:00', '2016-07-01 11:20:00',\n",
      "               '2016-07-01 11:25:00', '2016-07-01 11:30:00',\n",
      "               '2016-07-01 11:35:00', '2016-07-01 11:40:00',\n",
      "               '2016-07-01 11:45:00', '2016-07-01 11:50:00',\n",
      "               '2016-07-01 11:55:00', '2016-07-01 12:00:00',\n",
      "               '2016-07-01 12:05:00', '2016-07-01 12:10:00',\n",
      "               '2016-07-01 12:15:00', '2016-07-01 12:20:00',\n",
      "               '2016-07-01 12:25:00', '2016-07-01 12:30:00',\n",
      "               '2016-07-01 12:35:00', '2016-07-01 12:40:00',\n",
      "               '2016-07-01 12:45:00', '2016-07-01 12:50:00',\n",
      "               '2016-07-01 12:55:00'],\n",
      "              dtype='datetime64[ns]', freq='5T')\n"
     ]
    },
    {
     "data": {
      "text/plain": [
       "(17.313835616438354, 25.15958904109588)"
      ]
     },
     "execution_count": 17,
     "metadata": {},
     "output_type": "execute_result"
    }
   ],
   "source": [
    "#find when SOC reaches max value\n",
    "#do not use \n",
    "max_timestamp = df_store.loc[df_store.SOC_t >= 4.99, 'timestamp'].iloc[0]\n",
    "min_timestamp = df_store.loc[df_store.SOC_t <= 1.01, 'timestamp'].iloc[0]\n",
    "print(max_timestamp)\n",
    "print(min_timestamp)\n",
    "time_to_max = pd.date_range(min_timestamp,max_timestamp,freq=str(int(interval/60))+'min')\n",
    "print(time_to_max)\n",
    "delta = max_timestamp - min_timestamp\n",
    "max_to_2max = pd.date_range(max_timestamp,max_timestamp + delta,freq=str(int(interval/60))+'min')\n",
    "print(max_to_2max)\n",
    "time_to_max_prices = df_store[df_store.timestamp.isin(time_to_max)]\n",
    "max_to_2max_prices = df_store[df_store.timestamp.isin(max_to_2max)]\n",
    "time_to_max_prices.RT.mean(), max_to_2max_prices.RT.mean()"
   ]
  },
  {
   "cell_type": "code",
   "execution_count": 18,
   "metadata": {},
   "outputs": [],
   "source": [
    "def visualize_battery_dispatch(data):\n",
    "    # Visualize battery dispatch over time as well as the market price\n",
    "    fig = plt.figure(figsize=(9,3),dpi=150) \n",
    "    ax = fig.add_subplot(111)\n",
    "    \n",
    "    #plot1 = ax.plot(data.timestamp, data.RT, color='xkcd:sky blue', label='RT')\n",
    "    plot1 = ax.step(data.timestamp, data.RT, where=\"post\", color='xkcd:sky blue', label='RT')\n",
    "    ax.set_xlabel('Time')\n",
    "    ax.set_ylabel('Real-time price (USD/MWh)')\n",
    "#    ax.set_xlim(xmin=data.iloc[0]['timestamp'], xmax=data.iloc[-1]['timestamp']+pd.Timedelta(days=1))\n",
    "    ax.set_xticklabels(ax.get_xticklabels(), fontsize=7)\n",
    "#    ax.set_ylim(-1,5)\n",
    "\n",
    "    ax2 = ax.twinx()\n",
    "    #plot2 = ax2.plot(data.timestamp, data.SOC_t, color='orange', label='SOC')\n",
    "    plot2 = ax2.step(data.timestamp, data.SOC_t, where=\"post\", color='orange', label='SOC')\n",
    "    ax2.set_ylabel('State of Charge')\n",
    "    ax2.set_ylim(-4,10)\n",
    "    \n",
    "    \n",
    "    ax3 = ax.twinx()\n",
    "    rspine = ax3.spines['right']\n",
    "    rspine.set_position(('axes', 1.15))\n",
    "    ax3.set_frame_on(True)\n",
    "    ax3.patch.set_visible(False)\n",
    "    fig.subplots_adjust(right=0.7)\n",
    "\n",
    "    #plot3 = ax3.plot(data.timestamp, data.dispatch, color='red', label='load')\n",
    "    plot3 = ax3.step(data.timestamp, data.dispatch, where=\"post\", color='red', label='load')\n",
    "    ax3.set_ylabel('Load Dispatched')\n",
    "    ax3.set_ylim(-8,2)\n",
    "\n",
    "\n",
    "    plots = plot1 + plot2 + plot3\n",
    "    labs = [l.get_label() for l in plots]\n",
    "    L = ax.legend(plots, labs, bbox_to_anchor=(0.5, -0.4), loc='lower center', ncol=len(labs))"
   ]
  },
  {
   "cell_type": "code",
   "execution_count": 19,
   "metadata": {
    "scrolled": false
   },
   "outputs": [
    {
     "name": "stderr",
     "output_type": "stream",
     "text": [
      "<ipython-input-18-cb9e6cfd5068>:11: UserWarning: FixedFormatter should only be used together with FixedLocator\n",
      "  ax.set_xticklabels(ax.get_xticklabels(), fontsize=7)\n"
     ]
    },
    {
     "data": {
      "image/png": "[encoded data removed]",
      "text/plain": [
       "<Figure size 1350x450 with 3 Axes>"
      ]
     },
     "metadata": {
      "needs_background": "light"
     },
     "output_type": "display_data"
    }
   ],
   "source": [
    "visualize_battery_dispatch(df_store.iloc[9*12:12*12])"
   ]
  },
  {
   "cell_type": "code",
   "execution_count": null,
   "metadata": {},
   "outputs": [],
   "source": []
  },
  {
   "cell_type": "code",
   "execution_count": 20,
   "metadata": {},
   "outputs": [],
   "source": [
    "# pd.daterange(.rand(), end_whichis_96intervalslater, freq=5)\n",
    "xs = []\n",
    "ys = []\n",
    "for i in range(5000):\n",
    "    begin_index = rd.sample(range(len(market_intervals)), 1)[0]\n",
    "    sample_times = market_intervals[begin_index:begin_index+96]\n",
    "    df_store_sample = df_store[df_store.timestamp.isin(sample_times)]\n",
    "    \n",
    "    ys.append(df_store_sample.iloc[:48].RT.mean() - df_store_sample.iloc[48:].RT.mean())\n",
    "    xs.append(df_store_sample.iloc[:48].dispatch.mean() - df_store_sample.iloc[48:].dispatch.mean())"
   ]
  },
  {
   "cell_type": "code",
   "execution_count": 21,
   "metadata": {},
   "outputs": [
    {
     "data": {
      "text/plain": [
       "<matplotlib.collections.PathCollection at 0x18d7690abb0>"
      ]
     },
     "execution_count": 21,
     "metadata": {},
     "output_type": "execute_result"
    },
    {
     "data": {
      "image/png": "[encoded data removed]",
      "text/plain": [
       "<Figure size 432x288 with 1 Axes>"
      ]
     },
     "metadata": {
      "needs_background": "light"
     },
     "output_type": "display_data"
    }
   ],
   "source": [
    "#doesn't dispatch when it is supposed to\n",
    "plt.scatter(xs, ys)"
   ]
  }
 ],
 "metadata": {
  "kernelspec": {
   "display_name": "Python 3",
   "language": "python",
   "name": "python3"
  },
  "language_info": {
   "codemirror_mode": {
    "name": "ipython",
    "version": 3
   },
   "file_extension": ".py",
   "mimetype": "text/x-python",
   "name": "python",
   "nbconvert_exporter": "python",
   "pygments_lexer": "ipython3",
   "version": "3.7.6"
  }
 },
 "nbformat": 4,
 "nbformat_minor": 5
}
